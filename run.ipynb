{
 "cells": [
  {
   "cell_type": "code",
   "execution_count": 1,
   "id": "bb91fb66",
   "metadata": {},
   "outputs": [
    {
     "name": "stdout",
     "output_type": "stream",
     "text": [
      "Hi from init\n",
      "/Users/aftab/Documents/GitHub/CRBDetection_with_ML\n",
      "Database tables created successfully!\n",
      "\n",
      "Available routes:\n",
      "  static: /static/<path:filename>\n",
      "  home_page: /home\n",
      "  home_page: /\n",
      "  register_page: /register\n",
      "  login_page: /login\n",
      "  logout_page: /logout\n",
      "  index3: /index3\n",
      "  today2: /today\n",
      "  yesterday: /yesterday\n",
      "  today2k: /today2k\n",
      "  today2x: /today2x\n",
      "  today2b: /today2b\n",
      "  today2m: /today2m\n",
      "  today2M: /today2M\n",
      "  todaypred: /todaypred\n",
      "  yesterdayk: /yesterdayk\n",
      "  yesterdayx: /yesterdayx\n",
      "  yesterdayb: /yesterdayb\n",
      "  yesterdayM: /yesterdayM\n",
      "  search: /search\n",
      "  upload_image2: /uploads\n",
      "  map: /map/\n",
      "  traps: /traps/\n",
      "  pages_list: /pages\n",
      "\n",
      "Starting Flask server on http://localhost:5001\n",
      "Press Ctrl+C to stop the server\n",
      " * Serving Flask app 'app'\n",
      " * Debug mode: on\n"
     ]
    },
    {
     "name": "stderr",
     "output_type": "stream",
     "text": [
      "\u001b[31m\u001b[1mWARNING: This is a development server. Do not use it in a production deployment. Use a production WSGI server instead.\u001b[0m\n",
      " * Running on http://127.0.0.1:5001\n",
      "\u001b[33mPress CTRL+C to quit\u001b[0m\n",
      "127.0.0.1 - - [17/Aug/2025 16:25:54] \"GET / HTTP/1.1\" 200 -\n",
      "127.0.0.1 - - [17/Aug/2025 16:25:56] \"GET /pages HTTP/1.1\" 200 -\n",
      "127.0.0.1 - - [17/Aug/2025 16:25:56] \"GET /static/image/hawaii.jpg HTTP/1.1\" 200 -\n",
      "127.0.0.1 - - [17/Aug/2025 16:26:33] \"GET / HTTP/1.1\" 200 -\n",
      "127.0.0.1 - - [17/Aug/2025 16:26:36] \"GET /pages HTTP/1.1\" 200 -\n",
      "127.0.0.1 - - [17/Aug/2025 16:26:36] \"\u001b[36mGET /static/image/hawaii.jpg HTTP/1.1\u001b[0m\" 304 -\n",
      "127.0.0.1 - - [17/Aug/2025 16:35:08] \"GET /today HTTP/1.1\" 200 -\n",
      "127.0.0.1 - - [17/Aug/2025 16:35:12] \"GET /pages HTTP/1.1\" 200 -\n",
      "127.0.0.1 - - [17/Aug/2025 16:35:12] \"\u001b[36mGET /static/image/hawaii.jpg HTTP/1.1\u001b[0m\" 304 -\n",
      "127.0.0.1 - - [17/Aug/2025 16:35:12] \"\u001b[36mGET /static/image/hawaii.jpg HTTP/1.1\u001b[0m\" 304 -\n"
     ]
    }
   ],
   "source": [
    "from app import app, db\n",
    "\n",
    "# Create database tables if they don't exist\n",
    "with app.app_context():\n",
    "    db.create_all()\n",
    "    print(\"Database tables created successfully!\")\n",
    "\n",
    "# Show available routes\n",
    "print(\"\\nAvailable routes:\")\n",
    "for rule in app.url_map.iter_rules():\n",
    "    print(f\"  {rule.endpoint}: {rule.rule}\")\n",
    "\n",
    "print(f\"\\nStarting Flask server on http://localhost:5001\")\n",
    "print(\"Press Ctrl+C to stop the server\")\n",
    "\n",
    "# Start the server\n",
    "app.run(debug=True, port=5001, use_reloader=False)"
   ]
  },
  {
   "cell_type": "code",
   "execution_count": null,
   "id": "863eb4cb",
   "metadata": {},
   "outputs": [],
   "source": [
    "import sys; print(sys.executable)"
   ]
  }
 ],
 "metadata": {
  "kernelspec": {
   "display_name": "venv",
   "language": "python",
   "name": "python3"
  },
  "language_info": {
   "codemirror_mode": {
    "name": "ipython",
    "version": 3
   },
   "file_extension": ".py",
   "mimetype": "text/x-python",
   "name": "python",
   "nbconvert_exporter": "python",
   "pygments_lexer": "ipython3",
   "version": "3.12.6"
  }
 },
 "nbformat": 4,
 "nbformat_minor": 5
}
